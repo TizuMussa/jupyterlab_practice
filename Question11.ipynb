{
 "cells": [
  {
   "cell_type": "markdown",
   "id": "ff737b5c-1b0c-49d8-a282-2df2150cf484",
   "metadata": {},
   "source": [
    "# Tizitash Notebook for Assignment7"
   ]
  },
  {
   "cell_type": "code",
   "execution_count": 1,
   "id": "8fbd974c-cb7a-4d63-9fa6-0ee31cf87132",
   "metadata": {},
   "outputs": [
    {
     "data": {
      "text/plain": [
       "5.0"
      ]
     },
     "execution_count": 1,
     "metadata": {},
     "output_type": "execute_result"
    }
   ],
   "source": [
    "def compute_mean(x):\n",
    "    \n",
    "    \"\"\"\n",
    "    Returns the mean of list of numbers.\n",
    "    parameter: \n",
    "     x: list of numbers\n",
    "    \n",
    "    Returns: int.  \n",
    "    \n",
    "    Example: <<<5 >>>\n",
    "    \n",
    "    \"\"\"\n",
    "    return  sum(x)/len(x)\n",
    "\n",
    "compute_mean([2, 4, 6, 8])"
   ]
  },
  {
   "cell_type": "markdown",
   "id": "9c826a78-eddb-4bc4-9ac9-00dab4df375c",
   "metadata": {},
   "source": [
    "Below equation computes the mean of numbers. It sums all numbers and divide by the count of numbers.  It notation in the right reads as the summation of numbers from 1 to n and divided by the count of numbers.\n",
    "\n",
    "$$\n",
    "\\overline{x}=\\frac{x_1+x_2+...+x_n}{n} = \\frac{1}{n}  \\left( \\sum_{i=1}^{n} x_i \\right)\n",
    "$$"
   ]
  }
 ],
 "metadata": {
  "kernelspec": {
   "display_name": "Python [conda env:practice_env]",
   "language": "python",
   "name": "conda-env-practice_env-py"
  },
  "language_info": {
   "codemirror_mode": {
    "name": "ipython",
    "version": 3
   },
   "file_extension": ".py",
   "mimetype": "text/x-python",
   "name": "python",
   "nbconvert_exporter": "python",
   "pygments_lexer": "ipython3",
   "version": "3.11.4"
  }
 },
 "nbformat": 4,
 "nbformat_minor": 5
}
